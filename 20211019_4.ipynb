{
  "nbformat": 4,
  "nbformat_minor": 0,
  "metadata": {
    "colab": {
      "name": "20211019-4.ipynb",
      "provenance": [],
      "authorship_tag": "ABX9TyM9eAaHKlI27l7rWOX6eVYE",
      "include_colab_link": true
    },
    "kernelspec": {
      "name": "python3",
      "display_name": "Python 3"
    },
    "language_info": {
      "name": "python"
    }
  },
  "cells": [
    {
      "cell_type": "markdown",
      "metadata": {
        "id": "view-in-github",
        "colab_type": "text"
      },
      "source": [
        "<a href=\"https://colab.research.google.com/github/ksmang09/programming/blob/main/20211019_4.ipynb\" target=\"_parent\"><img src=\"https://colab.research.google.com/assets/colab-badge.svg\" alt=\"Open In Colab\"/></a>"
      ]
    },
    {
      "cell_type": "code",
      "metadata": {
        "id": "gYfGww5_QRNS"
      },
      "source": [
        "def solution(result):\n",
        "    score=0\n",
        "    for a in result:\n",
        "        if a=='W':\n",
        "            score = score+3\n",
        "        elif a=='D':\n",
        "            score = score+1\n",
        "    return score\n",
        "         "
      ],
      "execution_count": null,
      "outputs": []
    },
    {
      "cell_type": "code",
      "metadata": {
        "colab": {
          "base_uri": "https://localhost:8080/"
        },
        "id": "Kw1wmfuCQZmN",
        "outputId": "7c78c5a8-71d8-4e9b-e7ce-3097d356a8b6"
      },
      "source": [
        "print(solution('WWWWWDD'))"
      ],
      "execution_count": null,
      "outputs": [
        {
          "output_type": "stream",
          "name": "stdout",
          "text": [
            "17\n"
          ]
        }
      ]
    },
    {
      "cell_type": "code",
      "metadata": {
        "id": "JgtJYZOtUrRJ"
      },
      "source": [
        "def solution2(result):\n",
        "  count=0\n",
        "  for a in ['a', 'e', 'i', 'o', 'u', 'A', 'E', 'I', 'O', 'U']:\n",
        "    count += result.count(a)\n",
        "    print(count)"
      ],
      "execution_count": null,
      "outputs": []
    },
    {
      "cell_type": "code",
      "metadata": {
        "colab": {
          "base_uri": "https://localhost:8080/"
        },
        "id": "xOoKmndvWMS3",
        "outputId": "cf89bd23-2401-4aa7-e2b0-e3d3e1dee4ef"
      },
      "source": [
        "print(solution2('aaa'))"
      ],
      "execution_count": null,
      "outputs": [
        {
          "output_type": "stream",
          "name": "stdout",
          "text": [
            "3\n",
            "3\n",
            "3\n",
            "3\n",
            "3\n",
            "3\n",
            "3\n",
            "3\n",
            "3\n",
            "3\n",
            "None\n"
          ]
        }
      ]
    }
  ]
}