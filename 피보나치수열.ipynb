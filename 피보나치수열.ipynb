{
  "nbformat": 4,
  "nbformat_minor": 0,
  "metadata": {
    "colab": {
      "name": "피보나치수열.ipynb",
      "provenance": [],
      "authorship_tag": "ABX9TyORVdy9rVZzb+skJzDKKd5A",
      "include_colab_link": true
    },
    "kernelspec": {
      "name": "python3",
      "display_name": "Python 3"
    },
    "language_info": {
      "name": "python"
    }
  },
  "cells": [
    {
      "cell_type": "markdown",
      "metadata": {
        "id": "view-in-github",
        "colab_type": "text"
      },
      "source": [
        "<a href=\"https://colab.research.google.com/github/ksmang09/programming/blob/main/%ED%94%BC%EB%B3%B4%EB%82%98%EC%B9%98%EC%88%98%EC%97%B4.ipynb\" target=\"_parent\"><img src=\"https://colab.research.google.com/assets/colab-badge.svg\" alt=\"Open In Colab\"/></a>"
      ]
    },
    {
      "cell_type": "code",
      "metadata": {
        "id": "Lg0pq9YPe-eF"
      },
      "source": [
        "def fibonacci_nth(n):\n",
        "    a, b = 0, 1\n",
        "    for i in range(n):        \n",
        "        a, b = b, a+b\n",
        "    return a "
      ],
      "execution_count": null,
      "outputs": []
    }
  ]
}