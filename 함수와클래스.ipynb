{
  "nbformat": 4,
  "nbformat_minor": 0,
  "metadata": {
    "colab": {
      "name": "함수와클래스.ipynb",
      "provenance": [],
      "collapsed_sections": [],
      "authorship_tag": "ABX9TyOB0DFKAFUvfq2FkWwPwTFj",
      "include_colab_link": true
    },
    "kernelspec": {
      "name": "python3",
      "display_name": "Python 3"
    },
    "language_info": {
      "name": "python"
    }
  },
  "cells": [
    {
      "cell_type": "markdown",
      "metadata": {
        "id": "view-in-github",
        "colab_type": "text"
      },
      "source": [
        "<a href=\"https://colab.research.google.com/github/ksmang09/programming/blob/main/%ED%95%A8%EC%88%98%EC%99%80%ED%81%B4%EB%9E%98%EC%8A%A4.ipynb\" target=\"_parent\"><img src=\"https://colab.research.google.com/assets/colab-badge.svg\" alt=\"Open In Colab\"/></a>"
      ]
    },
    {
      "cell_type": "markdown",
      "metadata": {
        "id": "2MRy8YziJmwA"
      },
      "source": [
        "### 구구단을 예로들면\n",
        "* 함수 이름은 : GuGu로 하자\n",
        "* 입력받는 값은 : 2\n",
        "* 출력하는 값은 : 2단(2,4,6,8......)\n",
        "* 결과는 : 연속된 자료형이므로 리스트!!!"
      ]
    },
    {
      "cell_type": "code",
      "metadata": {
        "id": "wOgdeoUcKDWe"
      },
      "source": [
        "# result = GuGu(2)\n",
        "# result =(2,4,6,8,10,12,14,16,18)"
      ],
      "execution_count": null,
      "outputs": []
    },
    {
      "cell_type": "code",
      "metadata": {
        "id": "xV8PWqnnJ3I1"
      },
      "source": [
        "def GuGu(n):\n",
        "  print(n)"
      ],
      "execution_count": null,
      "outputs": []
    },
    {
      "cell_type": "code",
      "metadata": {
        "colab": {
          "base_uri": "https://localhost:8080/"
        },
        "id": "5lChlFCeKU-x",
        "outputId": "bad55a90-3c0d-4c06-b224-4a469bb44669"
      },
      "source": [
        "GuGu(2)"
      ],
      "execution_count": null,
      "outputs": [
        {
          "output_type": "stream",
          "name": "stdout",
          "text": [
            "2\n"
          ]
        }
      ]
    },
    {
      "cell_type": "code",
      "metadata": {
        "id": "LzseqaTlKd2u"
      },
      "source": [
        "def GuGu(n):\n",
        "  result = []\n",
        "  i=1\n",
        "  while i < 10:\n",
        "    result.append(n*i)\n",
        "    i += 1\n",
        "  return result"
      ],
      "execution_count": null,
      "outputs": []
    },
    {
      "cell_type": "code",
      "metadata": {
        "colab": {
          "base_uri": "https://localhost:8080/"
        },
        "id": "14v1xOYiKz1t",
        "outputId": "7dc89395-828c-4487-bbac-8320d4a10cac"
      },
      "source": [
        "GuGu(2)"
      ],
      "execution_count": null,
      "outputs": [
        {
          "output_type": "execute_result",
          "data": {
            "text/plain": [
              "[2, 4, 6, 8, 10, 12, 14, 16, 18]"
            ]
          },
          "metadata": {},
          "execution_count": 12
        }
      ]
    },
    {
      "cell_type": "markdown",
      "metadata": {
        "id": "hvizkXsdM8oi"
      },
      "source": [
        "10 미만의 자연수에서 3과 5의 배수를 구하면 3, 5, 6, 9이다. 이들의 총합은 23이다.\n",
        "1000 미만의 자연수에서 3의 배수와 5의 배수의 총합을 구하라"
      ]
    },
    {
      "cell_type": "code",
      "metadata": {
        "colab": {
          "base_uri": "https://localhost:8080/"
        },
        "id": "YeMRh6mJLgQP",
        "outputId": "e3ba9742-5329-4398-d197-6a8ea48ec079"
      },
      "source": [
        "i = 1\n",
        "while i < 10:\n",
        "  print(i)\n",
        "  i += 1"
      ],
      "execution_count": null,
      "outputs": [
        {
          "output_type": "stream",
          "name": "stdout",
          "text": [
            "1\n",
            "2\n",
            "3\n",
            "4\n",
            "5\n",
            "6\n",
            "7\n",
            "8\n",
            "9\n"
          ]
        }
      ]
    },
    {
      "cell_type": "markdown",
      "metadata": {
        "id": "mHD7cPIER7JY"
      },
      "source": [
        "객체 지향 프로그래밍은 컴퓨터 프로그램을 명령어의 목록으로 보는 시각에서 벗어나 여러개의 독립된 단위, 즉 \"객체\"들의 모임으로 파악하고자 하는 것이다. 각각의 객체는 메세지를 주고받고, 데이터를 처리할 수 있다.-"
      ]
    },
    {
      "cell_type": "markdown",
      "metadata": {
        "id": "w6mY6jrmSap2"
      },
      "source": [
        "### 클래스"
      ]
    },
    {
      "cell_type": "markdown",
      "metadata": {
        "id": "C-nGw0oURT1i"
      },
      "source": [
        "* 코드 중복방지\n",
        "* 캡슐화\n",
        "* 자료 추상화\n",
        "* 상속\n",
        "* 다중 상속\n",
        "* 다형성\n",
        "*"
      ]
    },
    {
      "cell_type": "markdown",
      "metadata": {
        "id": "apwgRFvRSvAe"
      },
      "source": [
        "- 자료 추상화\n",
        "  - 불필요한 정보는 숨기고 중요한 정보만을 표현함으로써 프로그램을 간단히 만드는 것(캡슐화)\n",
        "- 상속\n",
        "  - 새로운 클래스가 기존의 클래스의 자료와 연산을 이용할 수 있게 하는 기능\n",
        "- 다중 상속\n",
        "  - 클래스가 2개 이상의 클래스로부터 상속받을 수 있게 하는 기능\n",
        "- 다형성 개념\n",
        "  - 어떤 한 요소에 여러 개념을 넣어 놓는 것으로 일반적으로 오버라이딩(같은 이름의 메소드가 여러 클래스에서 다른 기능을 하는 것)\n",
        "이나 오버로딩(같은 이름의 메소드가 인자의 개수나 자료형에 따라서 다른 기능을 하는 것)을 의미\n",
        "- 동적 바인딩\n",
        "  - 실행 시간 중에 일어나거나 실행 고정에서 변경될 수 있는 바인딩으로 컴파일 시간에 완료되어 변화하지 않는 정적 바인딩과 대비되는 개념"
      ]
    },
    {
      "cell_type": "markdown",
      "metadata": {
        "id": "1YFr71rfSdEJ"
      },
      "source": [
        "위키백과 객체지향"
      ]
    },
    {
      "cell_type": "code",
      "metadata": {
        "id": "B7mLpL_pWgSv"
      },
      "source": [
        "class Person:\n",
        "  def __init__(self, name, age):\n",
        "    self.name = name\n",
        "    self.age = age\n",
        "\n",
        "  def getPerson(self):\n",
        "      return self.name, self.age"
      ],
      "execution_count": null,
      "outputs": []
    },
    {
      "cell_type": "code",
      "metadata": {
        "id": "F71gQVOIXLX5"
      },
      "source": [
        "ins_1 = Person('소망',17)\n",
        "ins_2 = Person('없음',17)"
      ],
      "execution_count": null,
      "outputs": []
    },
    {
      "cell_type": "code",
      "metadata": {
        "colab": {
          "base_uri": "https://localhost:8080/",
          "height": 189
        },
        "id": "h37-vWr1Xk8M",
        "outputId": "61710311-9fa6-4d86-d50c-227d9c3cabe6"
      },
      "source": [
        "#ins_1.name, ins_1.age\n",
        "ins_1.getPerson()"
      ],
      "execution_count": null,
      "outputs": [
        {
          "output_type": "error",
          "ename": "AttributeError",
          "evalue": "ignored",
          "traceback": [
            "\u001b[0;31m---------------------------------------------------------------------------\u001b[0m",
            "\u001b[0;31mAttributeError\u001b[0m                            Traceback (most recent call last)",
            "\u001b[0;32m<ipython-input-41-e7ac438b548b>\u001b[0m in \u001b[0;36m<module>\u001b[0;34m()\u001b[0m\n\u001b[1;32m      1\u001b[0m \u001b[0;31m#ins_1.name, ins_1.age\u001b[0m\u001b[0;34m\u001b[0m\u001b[0;34m\u001b[0m\u001b[0;34m\u001b[0m\u001b[0m\n\u001b[0;32m----> 2\u001b[0;31m \u001b[0mins_1\u001b[0m\u001b[0;34m.\u001b[0m\u001b[0mgetPerson\u001b[0m\u001b[0;34m(\u001b[0m\u001b[0;34m)\u001b[0m\u001b[0;34m\u001b[0m\u001b[0;34m\u001b[0m\u001b[0m\n\u001b[0m",
            "\u001b[0;31mAttributeError\u001b[0m: 'Person' object has no attribute 'getPerson'"
          ]
        }
      ]
    },
    {
      "cell_type": "code",
      "metadata": {
        "colab": {
          "base_uri": "https://localhost:8080/",
          "height": 189
        },
        "id": "Scu8C0JbXn4o",
        "outputId": "2025f29d-9d5d-4e20-9518-932bf5c7aef1"
      },
      "source": [
        "#ins_2.name, ins_2.age\n",
        "ins_2.getPerson()"
      ],
      "execution_count": null,
      "outputs": [
        {
          "output_type": "error",
          "ename": "AttributeError",
          "evalue": "ignored",
          "traceback": [
            "\u001b[0;31m---------------------------------------------------------------------------\u001b[0m",
            "\u001b[0;31mAttributeError\u001b[0m                            Traceback (most recent call last)",
            "\u001b[0;32m<ipython-input-40-c93d8b3c210c>\u001b[0m in \u001b[0;36m<module>\u001b[0;34m()\u001b[0m\n\u001b[1;32m      1\u001b[0m \u001b[0;31m#ins_2.name, ins_2.age\u001b[0m\u001b[0;34m\u001b[0m\u001b[0;34m\u001b[0m\u001b[0;34m\u001b[0m\u001b[0m\n\u001b[0;32m----> 2\u001b[0;31m \u001b[0mins_2\u001b[0m\u001b[0;34m.\u001b[0m\u001b[0mgetPerson\u001b[0m\u001b[0;34m(\u001b[0m\u001b[0;34m)\u001b[0m\u001b[0;34m\u001b[0m\u001b[0;34m\u001b[0m\u001b[0m\n\u001b[0m",
            "\u001b[0;31mAttributeError\u001b[0m: 'Person' object has no attribute 'getPerson'"
          ]
        }
      ]
    },
    {
      "cell_type": "code",
      "metadata": {
        "colab": {
          "base_uri": "https://localhost:8080/"
        },
        "id": "NEc3VB6FYE6E",
        "outputId": "5e306c5f-2183-426c-85d0-e26ec006dc87"
      },
      "source": [
        "ins_1.__dict__"
      ],
      "execution_count": null,
      "outputs": [
        {
          "output_type": "execute_result",
          "data": {
            "text/plain": [
              "{'age': 17, 'name': '소망'}"
            ]
          },
          "metadata": {},
          "execution_count": 42
        }
      ]
    },
    {
      "cell_type": "code",
      "metadata": {
        "colab": {
          "base_uri": "https://localhost:8080/"
        },
        "id": "16V-qvtiZ1y0",
        "outputId": "a93698cf-8da4-442d-9e44-6251101ab6ba"
      },
      "source": [
        "ins_2.__dict__"
      ],
      "execution_count": null,
      "outputs": [
        {
          "output_type": "execute_result",
          "data": {
            "text/plain": [
              "{'age': 17, 'name': '없음'}"
            ]
          },
          "metadata": {},
          "execution_count": 44
        }
      ]
    },
    {
      "cell_type": "markdown",
      "metadata": {
        "id": "ppYQe8xsbjEL"
      },
      "source": [
        ""
      ]
    }
  ]
}