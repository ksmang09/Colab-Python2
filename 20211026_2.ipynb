{
  "nbformat": 4,
  "nbformat_minor": 0,
  "metadata": {
    "colab": {
      "name": "20211026-2.ipynb",
      "provenance": [],
      "authorship_tag": "ABX9TyOjApNvKvgvo2GCJRx8CvFu",
      "include_colab_link": true
    },
    "kernelspec": {
      "name": "python3",
      "display_name": "Python 3"
    },
    "language_info": {
      "name": "python"
    }
  },
  "cells": [
    {
      "cell_type": "markdown",
      "metadata": {
        "id": "view-in-github",
        "colab_type": "text"
      },
      "source": [
        "<a href=\"https://colab.research.google.com/github/ksmang09/programming/blob/main/20211026_2.ipynb\" target=\"_parent\"><img src=\"https://colab.research.google.com/assets/colab-badge.svg\" alt=\"Open In Colab\"/></a>"
      ]
    },
    {
      "cell_type": "code",
      "metadata": {
        "colab": {
          "base_uri": "https://localhost:8080/"
        },
        "id": "UPIpxUZyA08E",
        "outputId": "4c1ce9e1-75ad-49bb-a372-95c699cfc77d"
      },
      "source": [
        "def solution(word):\n",
        "    myword = list(word)\n",
        "    for i in range(0,len(myword)//2):\n",
        "      if myword[i] == myword[len(myword)-i-1]:\n",
        "          continue\n",
        "      else:\n",
        "          return 'X'\n",
        "    return 'O'\n",
        "        \n",
        "print(solution(\"aaaaabbbbbaaaaa\"))"
      ],
      "execution_count": null,
      "outputs": [
        {
          "output_type": "stream",
          "name": "stdout",
          "text": [
            "O\n"
          ]
        }
      ]
    }
  ]
}