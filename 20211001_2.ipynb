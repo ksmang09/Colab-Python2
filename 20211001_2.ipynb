{
  "nbformat": 4,
  "nbformat_minor": 0,
  "metadata": {
    "colab": {
      "name": "20211001-2.ipynb",
      "provenance": [],
      "collapsed_sections": [],
      "authorship_tag": "ABX9TyO5HuzFdqi64IgsZC2L8zM3",
      "include_colab_link": true
    },
    "kernelspec": {
      "display_name": "Python 3",
      "name": "python3"
    },
    "language_info": {
      "name": "python"
    }
  },
  "cells": [
    {
      "cell_type": "markdown",
      "metadata": {
        "id": "view-in-github",
        "colab_type": "text"
      },
      "source": [
        "<a href=\"https://colab.research.google.com/github/ksmang09/programming/blob/main/20211001_2.ipynb\" target=\"_parent\"><img src=\"https://colab.research.google.com/assets/colab-badge.svg\" alt=\"Open In Colab\"/></a>"
      ]
    },
    {
      "cell_type": "code",
      "metadata": {
        "colab": {
          "background_save": true,
          "base_uri": "https://localhost:8080/"
        },
        "id": "xsElxUfBZA7S",
        "outputId": "619eb975-015c-42de-a0ef-371ca6411969"
      },
      "source": [
        "import random\n",
        "while True:\n",
        "    print('**********************')\n",
        "    print('** 가위바위보 게임  **')\n",
        "    print('**********************')\n",
        "    print('1.가위')\n",
        "    print('2.바위')\n",
        "    print('3.보')\n",
        "    mynum = int(input('입력->'))\n",
        "    comnum=random.randrange(1,4)\n",
        "    if mynum == comnum :\n",
        "        print('비겼다')\n",
        "    elif mynum==1 and comnum==3:\n",
        "        print('이겼당')\n",
        "    elif mynum==2 and comnum==1:\n",
        "        print('이겼당')\n",
        "    elif mynum==3 and comnum==2:   \n",
        "        print('이겼당')\n",
        "    else:\n",
        "        print('졌다')"
      ],
      "execution_count": null,
      "outputs": [
        {
          "name": "stdout",
          "output_type": "stream",
          "text": [
            "**********************\n",
            "** 가위바위보 게임  **\n",
            "**********************\n",
            "1.가위\n",
            "2.바위\n",
            "3.보\n"
          ]
        }
      ]
    }
  ]
}