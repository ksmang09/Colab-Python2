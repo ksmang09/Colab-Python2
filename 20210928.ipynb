{
  "nbformat": 4,
  "nbformat_minor": 0,
  "metadata": {
    "colab": {
      "name": "20210928.ipynb",
      "provenance": [],
      "authorship_tag": "ABX9TyM8C0PP1T8bAeuDKcDbUVHm",
      "include_colab_link": true
    },
    "kernelspec": {
      "name": "python3",
      "display_name": "Python 3"
    },
    "language_info": {
      "name": "python"
    }
  },
  "cells": [
    {
      "cell_type": "markdown",
      "metadata": {
        "id": "view-in-github",
        "colab_type": "text"
      },
      "source": [
        "<a href=\"https://colab.research.google.com/github/ksmang09/programming/blob/main/20210928.ipynb\" target=\"_parent\"><img src=\"https://colab.research.google.com/assets/colab-badge.svg\" alt=\"Open In Colab\"/></a>"
      ]
    },
    {
      "cell_type": "code",
      "metadata": {
        "colab": {
          "base_uri": "https://localhost:8080/"
        },
        "id": "FnDHAdLDv37H",
        "outputId": "e16d802b-1722-4688-b2a0-1b3aee883a6c"
      },
      "source": [
        "num = 10\n",
        "\n",
        "for i in range(1,11):\n",
        "    if num%i == 0:\n",
        "        print(i, end=' ')"
      ],
      "execution_count": null,
      "outputs": [
        {
          "output_type": "stream",
          "name": "stdout",
          "text": [
            "1 2 5 10 "
          ]
        }
      ]
    },
    {
      "cell_type": "code",
      "metadata": {
        "colab": {
          "base_uri": "https://localhost:8080/"
        },
        "id": "qGCRyiNo48-Y",
        "outputId": "cc7db02b-5abe-42d0-81c8-8d9c35b57d70"
      },
      "source": [
        "num = 100\n",
        "\n",
        "for i in range(1,num+1):\n",
        "    if num%i == 0:\n",
        "        print(i, end=' ')"
      ],
      "execution_count": null,
      "outputs": [
        {
          "output_type": "stream",
          "name": "stdout",
          "text": [
            "1 2 4 5 10 20 25 50 100 "
          ]
        }
      ]
    },
    {
      "cell_type": "code",
      "metadata": {
        "colab": {
          "base_uri": "https://localhost:8080/"
        },
        "id": "jpxONJrb5j-H",
        "outputId": "5b7d8ec0-1061-4b85-b2e4-c6957647785b"
      },
      "source": [
        "num = int(input('값을 입력하세영:'))\n",
        "\n",
        "for i in range(1,num+1):\n",
        "    if num%i == 0:\n",
        "        print(i, end=' ')"
      ],
      "execution_count": null,
      "outputs": [
        {
          "output_type": "stream",
          "name": "stdout",
          "text": [
            "값을 입력하세영:111\n",
            "1 3 37 111 "
          ]
        }
      ]
    },
    {
      "cell_type": "code",
      "metadata": {
        "colab": {
          "base_uri": "https://localhost:8080/"
        },
        "id": "-sf4tZM566t6",
        "outputId": "2782e7cb-7452-4303-fa97-c48ea0d573e4"
      },
      "source": [
        "num = 10\n",
        "count = 0\n",
        "\n",
        "for i in range(1,11):\n",
        "    if num%i == 0:\n",
        "        count = count + 1\n",
        "      \n",
        "print(count)"
      ],
      "execution_count": null,
      "outputs": [
        {
          "output_type": "stream",
          "name": "stdout",
          "text": [
            "4\n"
          ]
        }
      ]
    },
    {
      "cell_type": "code",
      "metadata": {
        "colab": {
          "base_uri": "https://localhost:8080/"
        },
        "id": "KZrDZRIL7UBv",
        "outputId": "f21e2a9a-51ac-43f1-daf9-5774a9ef3cfc"
      },
      "source": [
        "num = int(input('값을 입력하세영:'))\n",
        "count = 0\n",
        "\n",
        "for i in range(1,num+1):\n",
        "    if num%i == 0:\n",
        "        count = count + 1\n",
        "      \n",
        "print('입력하신 {0}의 약수의 개수는 {1}개 입니당.'.format(num, count))"
      ],
      "execution_count": null,
      "outputs": [
        {
          "output_type": "stream",
          "name": "stdout",
          "text": [
            "값을 입력하세영:123\n",
            "입력하신 123의 약수의 개수는 4개 입니당.\n"
          ]
        }
      ]
    },
    {
      "cell_type": "code",
      "metadata": {
        "colab": {
          "base_uri": "https://localhost:8080/"
        },
        "id": "n6UtMSZJ8c-n",
        "outputId": "71b0ca8d-6c02-4c13-c73c-ac42a5e498f8"
      },
      "source": [
        "num = int(input('값을 인력하세영:'))\n",
        "count=0\n",
        "\n",
        "for i in range(1, num+1):\n",
        "    if num % i == 0:\n",
        "\n",
        "        count = count + 1\n",
        "\n",
        "if count==2:\n",
        "    print('소수입니다')\n",
        "else:\n",
        "    print('소수아니여 ㅄ아')"
      ],
      "execution_count": null,
      "outputs": [
        {
          "output_type": "stream",
          "name": "stdout",
          "text": [
            "값을 인력하세영:79\n",
            "소수입니다\n"
          ]
        }
      ]
    }
  ]
}